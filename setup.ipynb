{
 "cells": [
  {
   "cell_type": "code",
   "execution_count": 1,
   "id": "affected-buying",
   "metadata": {},
   "outputs": [],
   "source": [
    "import os\n",
    "import shutil"
   ]
  },
  {
   "cell_type": "markdown",
   "id": "welsh-spokesman",
   "metadata": {
    "pycharm": {
     "name": "#%% md\n"
    }
   },
   "source": [
    "### print corpora stats"
   ]
  },
  {
   "cell_type": "code",
   "execution_count": 3,
   "outputs": [
    {
     "name": "stdout",
     "output_type": "stream",
     "text": [
      "data: train.txt in folder: TED\n",
      " total words: 17000, lines: 270206, max length: 111, avg length: 15.894470588235293\n",
      "data: valid.txt in folder: TED\n",
      " total words: 5000, lines: 78702, max length: 77, avg length: 15.7404\n",
      "data: retrieval.txt in folder: 1K\n",
      " total words: 1000, lines: 12188, max length: 76, avg length: 12.188\n",
      "data: train.txt in folder: OT\n",
      " total words: 17000, lines: 193308, max length: 56, avg length: 11.371058823529411\n",
      "data: valid.txt in folder: OT\n",
      " total words: 5000, lines: 55766, max length: 53, avg length: 11.1532\n",
      "data: train.txt in folder: WIKI\n",
      " total words: 17000, lines: 254247, max length: 67, avg length: 14.955705882352941\n",
      "data: valid.txt in folder: WIKI\n",
      " total words: 5000, lines: 75102, max length: 71, avg length: 15.0204\n",
      "data: train.txt in folder: NT\n",
      " total words: 17000, lines: 203600, max length: 62, avg length: 11.976470588235294\n",
      "data: valid.txt in folder: NT\n",
      " total words: 5000, lines: 56289, max length: 49, avg length: 11.2578\n"
     ]
    }
   ],
   "source": [
    "dirs = os.listdir(\"corpora\")\n",
    "for folder in dirs:\n",
    "    files = os.listdir(\"corpora/{}\".format(folder))\n",
    "    for file in files:\n",
    "        with open(\"corpora/{}/{}\".format(folder, file), 'r', encoding='utf-8') as f:\n",
    "            sents = f.read().split(\"\\n\")\n",
    "            sents.pop(-1)\n",
    "        words_per_line = [len(line.split(\" \")) for line in sents]\n",
    "        print(\"data: {} in folder: {}\\n total words: {}, lines: {}, max length: {}, avg length: {}\".format(\n",
    "            file,\n",
    "            folder,\n",
    "            len(words_per_line),\n",
    "            sum(words_per_line),\n",
    "            max(words_per_line),\n",
    "            sum(words_per_line) / len(words_per_line)\n",
    "        ))"
   ],
   "metadata": {
    "collapsed": false,
    "pycharm": {
     "name": "#%%\n"
    }
   }
  },
  {
   "cell_type": "markdown",
   "source": [
    "### tokenizer\n",
    "Generate tokenizer based on NT of vocab size = 500 1K 2K 4K"
   ],
   "metadata": {
    "collapsed": false,
    "pycharm": {
     "name": "#%% md\n"
    }
   }
  },
  {
   "cell_type": "code",
   "execution_count": 4,
   "outputs": [
    {
     "name": "stdout",
     "output_type": "stream",
     "text": [
      "Trained vocab size: 102\n",
      "Trained vocab size: 500\n",
      "Trained vocab size: 1000\n",
      "Trained vocab size: 2000\n",
      "Trained vocab size: 4000\n"
     ]
    }
   ],
   "source": [
    "from tokenizers import Tokenizer\n",
    "from tokenizers.models import WordPiece\n",
    "from tokenizers import normalizers\n",
    "from tokenizers.normalizers import NFD, StripAccents, Lowercase\n",
    "from tokenizers.pre_tokenizers import Whitespace\n",
    "from tokenizers.trainers import WordPieceTrainer\n",
    "from tokenizers.processors import TemplateProcessing\n",
    "\n",
    "files = [\"corpora/NT/train.txt\"]\n",
    "for vocab_size in [102, 500, 1000, 2000, 4000]:\n",
    "    # here we insert space to each character so that we can use WordLevel model\n",
    "    tokenizer = Tokenizer(WordPiece(unk_token=\"[UNK]\"))\n",
    "    tokenizer.normalizer = normalizers.Sequence([NFD(), Lowercase(), StripAccents()])\n",
    "    trainer = WordPieceTrainer(special_tokens=[\"[UNK]\", \"[CLS]\", \"[SEP]\", \"[PAD]\", \"[MASK]\"],\n",
    "                               vocab_size=vocab_size)\n",
    "    tokenizer.pre_tokenizer = Whitespace()\n",
    "    tokenizer.post_processor = TemplateProcessing(\n",
    "        single=\"[CLS] $A [SEP]\",\n",
    "        pair=\"[CLS] $A [SEP] $B:1 [SEP]:1\",\n",
    "        special_tokens=[(\"[CLS]\", 1), (\"[SEP]\", 2)],\n",
    "    )\n",
    "    tokenizer.train(files, trainer)\n",
    "    print(\"Trained vocab size: {}\".format(tokenizer.get_vocab_size()))\n",
    "    save_path = \"tokenizer/{}\".format(vocab_size)\n",
    "    if not os.path.exists(save_path):\n",
    "        os.mkdir(save_path)\n",
    "    tokenizer.model.save(save_path)\n",
    "    shutil.copy('configs/special_tokens_map.json', os.path.join(save_path, 'special_tokens_map.json'))\n",
    "    shutil.copy('configs/config.json', os.path.join(save_path, 'config.json'))"
   ],
   "metadata": {
    "collapsed": false,
    "pycharm": {
     "name": "#%%\n"
    }
   }
  },
  {
   "cell_type": "markdown",
   "source": [
    "### Fake English tokenizers"
   ],
   "metadata": {
    "collapsed": false
   }
  },
  {
   "cell_type": "code",
   "execution_count": 6,
   "id": "e1696c25-0e1b-4e60-8c5a-123d93d18b80",
   "metadata": {
    "pycharm": {
     "name": "#%%\n"
    }
   },
   "outputs": [
    {
     "data": {
      "text/plain": "'tokenizer/2000_4000/config.json'"
     },
     "execution_count": 6,
     "metadata": {},
     "output_type": "execute_result"
    }
   ],
   "source": [
    "# combine NT 2000 with shifted NT 2k\n",
    "save_path = 'tokenizer/2000_2000'\n",
    "if not os.path.exists(save_path):\n",
    "    os.mkdir(save_path)\n",
    "with open(\"tokenizer/2000/vocab.txt\", 'r') as f:\n",
    "    vocab_list = f.read().split()\n",
    "shifted_vocab = [\"::\" + k for k in vocab_list]\n",
    "vocab_list.extend(shifted_vocab)\n",
    "with open(os.path.join(save_path, \"vocab.txt\"), 'w') as f:\n",
    "    f.writelines(i + '\\n' for i in vocab_list)\n",
    "shutil.copy('configs/special_tokens_map.json', os.path.join(save_path, 'special_tokens_map.json'))\n",
    "shutil.copy('configs/config.json', os.path.join(save_path, 'config.json'))\n",
    "\n",
    "# combine NT 2000 with shifted NT 500\n",
    "save_path = 'tokenizer/2000_500'\n",
    "if not os.path.exists(save_path):\n",
    "    os.mkdir(save_path)\n",
    "with open(\"tokenizer/500/vocab.txt\", 'r') as f:\n",
    "    vocab_list = f.read().split()\n",
    "shifted_vocab = [\"::\" + k for k in vocab_list]\n",
    "with open(\"tokenizer/2000/vocab.txt\", 'r') as f:\n",
    "    vocab_list = f.read().split()\n",
    "vocab_list.extend(shifted_vocab)\n",
    "with open(os.path.join(save_path, \"vocab.txt\"), 'w') as f:\n",
    "    f.writelines(i + '\\n' for i in vocab_list)\n",
    "shutil.copy('configs/special_tokens_map.json', os.path.join(save_path, 'special_tokens_map.json'))\n",
    "shutil.copy('configs/config.json', os.path.join(save_path, 'config.json'))\n",
    "\n",
    "# combine NT 2000 with shifted NT 1000\n",
    "save_path = 'tokenizer/2000_1000'\n",
    "if not os.path.exists(save_path):\n",
    "    os.mkdir(save_path)\n",
    "with open(\"tokenizer/1000/vocab.txt\", 'r') as f:\n",
    "    vocab_list = f.read().split()\n",
    "shifted_vocab = [\"::\" + k for k in vocab_list]\n",
    "with open(\"tokenizer/2000/vocab.txt\", 'r') as f:\n",
    "    vocab_list = f.read().split()\n",
    "vocab_list.extend(shifted_vocab)\n",
    "with open(os.path.join(save_path, \"vocab.txt\"), 'w') as f:\n",
    "    f.writelines(i + '\\n' for i in vocab_list)\n",
    "shutil.copy('configs/special_tokens_map.json', os.path.join(save_path, 'special_tokens_map.json'))\n",
    "shutil.copy('configs/config.json', os.path.join(save_path, 'config.json'))\n",
    "\n",
    "# combine NT 2000 with shifted NT 4000\n",
    "save_path = 'tokenizer/2000_4000'\n",
    "if not os.path.exists(save_path):\n",
    "    os.mkdir(save_path)\n",
    "with open(\"tokenizer/4000/vocab.txt\", 'r') as f:\n",
    "    vocab_list = f.read().split()\n",
    "shifted_vocab = [\"::\" + k for k in vocab_list]\n",
    "with open(\"tokenizer/2000/vocab.txt\", 'r') as f:\n",
    "    vocab_list = f.read().split()\n",
    "vocab_list.extend(shifted_vocab)\n",
    "with open(os.path.join(save_path, \"vocab.txt\"), 'w') as f:\n",
    "    f.writelines(i + '\\n' for i in vocab_list)\n",
    "shutil.copy('configs/special_tokens_map.json', os.path.join(save_path, 'special_tokens_map.json'))\n",
    "shutil.copy('configs/config.json', os.path.join(save_path, 'config.json'))"
   ]
  },
  {
   "cell_type": "code",
   "execution_count": null,
   "outputs": [],
   "source": [],
   "metadata": {
    "collapsed": false,
    "pycharm": {
     "name": "#%%\n"
    }
   }
  }
 ],
 "metadata": {
  "kernelspec": {
   "display_name": "Python 3",
   "language": "python",
   "name": "python3"
  },
  "language_info": {
   "codemirror_mode": {
    "name": "ipython",
    "version": 3
   },
   "file_extension": ".py",
   "mimetype": "text/x-python",
   "name": "python",
   "nbconvert_exporter": "python",
   "pygments_lexer": "ipython3",
   "version": "3.7.10"
  }
 },
 "nbformat": 4,
 "nbformat_minor": 5
}